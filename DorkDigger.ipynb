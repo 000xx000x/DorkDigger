# Install googlesearch-python package
!pip install googlesearch-python

from googlesearch import search
import pandas as pd

def get_google_dorks(term):
    dorks = [
        f'"{term}"',
        f'"{term}" site:linkedin.com',
        f'"{term}" site:facebook.com',
        f'"{term}" site:twitter.com',
        f'"{term}" site:instagram.com',
        f'"{term}" site:news.google.com',
        f'"{term}" site:bbc.com',
        f'"{term}" filetype:pdf',
        f'"{term}" filetype:doc',
        f'"{term}" filetype:txt',
        f'"{term}" filetype:xls',
        f'"{term}" filetype:csv',
        f'"{term}" site:reddit.com',
        f'"{term}" site:quora.com',
        f'"{term}" inurl:blog',
        f'"{term}" site:wordpress.com',
        f'"{term}" site:researchgate.net',
        f'"{term}" site:academia.edu',
        f'"{term}" AND "profile" OR "CV"',
        f'"{term}" site:glassdoor.com',
        f'"{term}" "email"',
        f'"{term}" "phone number"',
        f'"{term}" site:images.google.com',
        f'"{term}" site:youtube.com',
        f'"{term}" site:vimeo.com',
        f'"{term}" inurl:about.me',
        f'"{term}" inurl:me',
        f'"{term}" site:crunchbase.com',
        f'"{term}" site:angel.co',
        f'"{term}" site:courtlistener.com',
        f'"{term}" site:alumni.net',
        f'"{term}" site:medium.com',
        f'"{term}" site:theconversation.com',
        f'"{term}" site:github.com',
        f'"{term}" site:stackoverflow.com',
        f'"{term}" site:sec.gov',
        f'"{term}" site:bizapedia.com',
        f'"{term}" site:associationdirectory.com',
        f'"{term}" site:eventbrite.com',
        f'"{term}" site:meetup.com',
        f'"{term}" "commented on"',
        f'"{term}" site:patents.google.com',
        f'"{term}" site:scholarships.com',
        f'"{term}" site:fastweb.com',
        f'"{term}" site:confengine.com',
        f'"{term}" site:conf.com',
        f'"{term}" site:volunteermatch.org',
        f'"{term}" site:idealist.org',
        f'"{term}" "certification" site:linkedin.com',
        f'"{term}" site:propertyrecords.com',
        f'"{term}" site:ebay.com',
        f'"{term}" site:etsy.com',
        f'"{term}" site:steamcommunity.com',
        f'"{term}" site:myanimelist.net',
        f'"{term}" site:tripadvisor.com',
        f'"{term}" site:expedia.com',
        f'"{term}" site:soundcloud.com',
        f'"{term}" site:bandcamp.com',
        f'"{term}" site:strava.com',
        f'"{term}" site:fitbit.com',
        f'"{term}" site:tinder.com',
        f'"{term}" site:okcupid.com',
        f'"{term}" site:kickstarter.com',
        f'"{term}" site:gofundme.com',
        f'"{term}" site:bitcointalk.org',
        f'"{term}" site:ted.com',
        f'"{term}" site:toastmasters.org',
        f'"{term}" site:goodreads.com',
        f'"{term}" site:amazon.com',
        f'"{term}" site:imdb.com',
        f'"{term}" site:sourceforge.net',
        f'"{term}" site:sciencedirect.com',
        f'"{term}" site:jstor.org',
        f'"{term}" site:ancestry.com',
        f'"{term}" site:indeed.com',
        f'"{term}" site:opensecrets.org',
        f'"{term}" site:yelp.com',
        f'"{term}" site:careerbuilder.com',
    ]
    return dorks

def search_google(dork):
    try:
        return list(search(dork, num_results=5))
    except Exception as e:
        print(f"Error with dork {dork}: {e}")
        return []

def main():
    term = input("Enter the name of the person or thing you want to search for: ")
    dorks = get_google_dorks(term)

    results = []
    for dork in dorks:
        search_results = search_google(dork)
        if search_results:
            results.append((dork, search_results))

    if results:
        for dork, urls in results:
            print(f"\nResults for dork: {dork}")
            for url in urls:
                print(url)
    else:
        print("No results found.")

main()